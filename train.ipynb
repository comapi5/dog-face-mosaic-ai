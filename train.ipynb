{
  "nbformat": 4,
  "nbformat_minor": 0,
  "metadata": {
    "colab": {
      "provenance": [],
      "gpuType": "T4",
      "mount_file_id": "1tDuOwZOm-cjf5B33pEuvIZKGtpbZcmBR",
      "authorship_tag": "ABX9TyMgP5vp4v09rMWtUkoBDRbY",
      "include_colab_link": true
    },
    "kernelspec": {
      "name": "python3",
      "display_name": "Python 3"
    },
    "language_info": {
      "name": "python"
    },
    "accelerator": "GPU"
  },
  "cells": [
    {
      "cell_type": "markdown",
      "metadata": {
        "id": "view-in-github",
        "colab_type": "text"
      },
      "source": [
        "<a href=\"https://colab.research.google.com/github/comapi5/dog-face-mosaic-ai/blob/main/train.ipynb\" target=\"_parent\"><img src=\"https://colab.research.google.com/assets/colab-badge.svg\" alt=\"Open In Colab\"/></a>"
      ]
    },
    {
      "cell_type": "code",
      "source": [
        "!git clone https://github.com/ultralytics/yolov5.git > /dev/null 2>&1"
      ],
      "metadata": {
        "id": "q0lSD9SLuCK5"
      },
      "execution_count": null,
      "outputs": []
    },
    {
      "cell_type": "code",
      "source": [
        "%cd /content/yolov5/\n",
        "!pip install -qr requirements.txt"
      ],
      "metadata": {
        "id": "QfqqZARyyAFV"
      },
      "execution_count": null,
      "outputs": []
    },
    {
      "cell_type": "code",
      "source": [
        "import os\n",
        "import shutil\n",
        "import yaml\n",
        "from glob import glob\n",
        "from tqdm import tqdm"
      ],
      "metadata": {
        "id": "J5Qkmrolz5aO"
      },
      "execution_count": null,
      "outputs": []
    },
    {
      "cell_type": "code",
      "source": [
        "os.makedirs(\"/content/dataset/train/images\", exist_ok=True)\n",
        "os.makedirs(\"/content/dataset/train/labels\", exist_ok=True)\n",
        "\n",
        "os.makedirs(\"/content/dataset/val/images\", exist_ok=True)\n",
        "os.makedirs(\"/content/dataset/val/labels\", exist_ok=True)"
      ],
      "metadata": {
        "id": "MDn4IYiw25Ea"
      },
      "execution_count": null,
      "outputs": []
    },
    {
      "cell_type": "code",
      "source": [
        "label_paths = sorted(glob('/content/drive/MyDrive/data/dog_mosaic_annotation/annotations/*'))\n",
        "label_paths = [path for path in label_paths if not(\"classes.txt\" in path)]\n",
        "\n",
        "for i, label_path in enumerate(tqdm(label_paths)):\n",
        "  file_name = os.path.basename(label_path)[:-4]\n",
        "\n",
        "  img_path = glob(f\"/content/drive/MyDrive/data/dog_mosaic_annotation/**/{file_name}.jpg\", recursive=True)[0]\n",
        "\n",
        "  if i < int(len(label_paths) * 0.8):\n",
        "    shutil.copy2(label_path, f\"/content/dataset/train/labels/{file_name}.txt\")\n",
        "    shutil.copy2(img_path, f\"/content/dataset/train/images/{file_name}.jpg\")\n",
        "\n",
        "  else:\n",
        "    shutil.copy2(label_path, f\"/content/dataset/val/labels/{file_name}.txt\")\n",
        "    shutil.copy2(img_path, f\"/content/dataset/val/images/{file_name}.jpg\")\n",
        "\n",
        "# おまけで推論用にコピー\n",
        "shutil.copy2(img_path, f\"/content/sample.jpg\")"
      ],
      "metadata": {
        "id": "r6hD8d9KzID6"
      },
      "execution_count": null,
      "outputs": []
    },
    {
      "cell_type": "code",
      "source": [
        "data = {\n",
        "    \"train\": \"/content/dataset/train\",\n",
        "    \"val\": \"/content/dataset/val\",\n",
        "\n",
        "    \"nc\": 1,\n",
        "    \"names\": [\"dog\"]\n",
        "}\n",
        "\n",
        "with open('/content/data.yaml', 'w') as f:\n",
        "  yaml.dump(data, f, default_flow_style=False)"
      ],
      "metadata": {
        "id": "5D9kaRVf1hNY"
      },
      "execution_count": null,
      "outputs": []
    },
    {
      "cell_type": "code",
      "source": [
        "!pwd"
      ],
      "metadata": {
        "id": "d4S57jZ45ihA"
      },
      "execution_count": null,
      "outputs": []
    },
    {
      "cell_type": "code",
      "source": [
        "!python train.py --data \"/content/data.yaml\""
      ],
      "metadata": {
        "id": "ORR-bBl85u5f"
      },
      "execution_count": null,
      "outputs": []
    },
    {
      "cell_type": "code",
      "source": [
        "!python detect.py --source \"/content/sample.jpg\" --weights \"/content/yolov5/runs/train/exp2/weights/best.pt\""
      ],
      "metadata": {
        "id": "T5A5m74r8RKm"
      },
      "execution_count": null,
      "outputs": []
    },
    {
      "cell_type": "code",
      "source": [
        "from PIL import Image\n",
        "exp_name = \"exp4\"\n",
        "img = Image.open(f\"/content/yolov5/runs/detect/{exp_name}/sample.jpg\")\n",
        "img.show()"
      ],
      "metadata": {
        "id": "1VhWqxcf9BsL"
      },
      "execution_count": null,
      "outputs": []
    },
    {
      "cell_type": "code",
      "source": [],
      "metadata": {
        "id": "jy3I040W9ewt"
      },
      "execution_count": null,
      "outputs": []
    }
  ]
}